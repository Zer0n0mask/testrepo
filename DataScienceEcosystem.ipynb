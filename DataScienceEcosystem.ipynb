{
 "cells": [
  {
   "cell_type": "markdown",
   "id": "535579bd-9ada-40db-a283-2fc79e283b74",
   "metadata": {
    "editable": true,
    "slideshow": {
     "slide_type": ""
    },
    "tags": []
   },
   "source": [
    "# Data science tools and Ecosystem"
   ]
  },
  {
   "cell_type": "markdown",
   "id": "87ccc01a-1d6f-44f3-a971-3d3f6b4f07f9",
   "metadata": {},
   "source": [
    "## Author\n",
    "Daniel Vega Pardo"
   ]
  },
  {
   "cell_type": "markdown",
   "id": "80c99c28-872e-40de-a5b2-029353682a4f",
   "metadata": {},
   "source": [
    "## Introduction\n",
    "In this Jupyter notebook, Data Science Tools and Ecosystem are summarized. Please feel free to download and modify the file or to include any changes you think are important for this repository. "
   ]
  },
  {
   "cell_type": "markdown",
   "id": "431fda1f-7781-4b3e-a39b-76874dbdf271",
   "metadata": {},
   "source": [
    "### **Objectives**:\n",
    "- List common languages in data science\n",
    "- Show some of the libraries most used\n",
    "- List the main development environments\n",
    "- Show how python arithmetics work"
   ]
  },
  {
   "cell_type": "markdown",
   "id": "283d71d6-9cdb-47fc-84f7-e75c5c75cf56",
   "metadata": {
    "editable": true,
    "slideshow": {
     "slide_type": ""
    },
    "tags": []
   },
   "source": [
    "## Languages\n",
    "Main ones are [[Python]], [[R]], [[SQL]]\n",
    "However other used are: [[Scala]], [[java]], [[C++]], [[Julia]], [[JavaScript]], [[PHP]], [[Go]], [[Ruby]], [[VisualBasic]]"
   ]
  },
  {
   "cell_type": "markdown",
   "id": "b06d6ce1-5247-4ed7-ac8d-e912dcc1085a",
   "metadata": {},
   "source": [
    "## Libraries\n",
    "Some of the libraries used in data science include:\n",
    "\n",
    "### 4.1 General Data Analysis\n",
    "\n",
    "- **Pandas**: Provides data structures and data analysis tools.\n",
    "- **NumPy**: Supports large, multi-dimensional arrays and matrices, along with a collection of mathematical functions to operate on these arrays.\n",
    "\n",
    "### 4.2 Statistical Analysis\n",
    "\n",
    "- **SciPy**: Builds on NumPy and provides additional functionality for scientific and technical computing, including statistical functions.\n",
    "- **Statsmodels**: Provides classes and functions for the estimation of statistical models and performing statistical tests.\n",
    "\n",
    "### 4.3 Machine Learning\n",
    "\n",
    "- **Scikit-learn**: Offers simple and efficient tools for data mining and data analysis, built on NumPy, SciPy, and matplotlib.\n",
    "- **XGBoost**: Implements the gradient boosting framework designed for speed and performance.\n",
    "- **LightGBM**: A gradient boosting framework that uses tree-based learning algorithms.\n",
    "- **CatBoost**: Handles categorical features and supports gradient boosting.\n",
    "\n",
    "### 4.4 Deep Learning\n",
    "\n",
    "- **TensorFlow**: An end-to-end open-source platform for machine learning.\n",
    "- **Keras**: A high-level neural networks API, written in Python and capable of running on top of TensorFlow.\n",
    "- **PyTorch**: An open-source machine learning library based on the Torch library, used for applications such as computer vision and natural language processing.\n",
    "\n",
    "### 4.5 Data Visualization\n",
    "\n",
    "- **Matplotlib**: A plotting library that produces static, interactive, and animated visualizations in Python.\n",
    "- **Seaborn**: Based on Matplotlib, provides a high-level interface for drawing attractive statistical graphics.\n",
    "- **Plotly**: Creates interactive plots and dashboards, with support for a variety of chart types.\n",
    "- **Altair**: Declarative statistical visualization library based on Vega and Vega-Lite visualization grammars.\n",
    "\n",
    "### 4.6 Big Data and Parallel Computing\n",
    "\n",
    "- **Dask**: Provides advanced parallel computing with task scheduling.\n",
    "- **PySpark**: Python API for Spark that lets you harness the simplicity of Python and the power of Apache Spark to scale up the analytical computations.\n",
    "\n",
    "### 4.7 Data Manipulation and Feature Engineering\n",
    "\n",
    "- **Feature-engine**: Provides functionalities for feature engineering and preprocessing in a machine learning pipeline.\n",
    "- **Pandas-Profiling**: Generates profile reports from a pandas DataFrame, including descriptive statistics and correlations.\n",
    "\n",
    "### 4.8 Natural Language Processing (NLP)\n",
    "\n",
    "- **NLTK**: Provides tools for working with human language data (text).\n",
    "- **spaCy**: Industrial-strength NLP library designed for performance and ease of use.\n",
    "- **Transformers (by Hugging Face)**: Provides state-of-the-art models for various NLP tasks using transformer architectures.\n",
    "\n",
    "### 4.9 Image Processing\n",
    "\n",
    "- **OpenCV**: A library for computer vision, machine learning, and image processing.\n",
    "- **Pillow**: A Python Imaging Library (PIL) fork that adds image processing capabilities.\n"
   ]
  },
  {
   "cell_type": "markdown",
   "id": "eddf8522-449b-43a1-9d88-74ac90605ba2",
   "metadata": {},
   "source": [
    "## Environments\n",
    "Some of the most common open source development environments used are: \n",
    "\n",
    "| Data Science Tools | \n",
    "| --- | \n",
    "| JupyterLab |\n",
    "| Rstudio |\n",
    "| Spyder | \n"
   ]
  },
  {
   "cell_type": "markdown",
   "id": "92ddf0ed-0d98-4a76-bb66-8684aa67f8a6",
   "metadata": {},
   "source": [
    "## Arithmetic\n",
    "Some arithmetic expressions in Python can be seen below."
   ]
  },
  {
   "cell_type": "code",
   "execution_count": 1,
   "id": "2cdcfd41-a13b-4826-944e-5ada6f22d829",
   "metadata": {},
   "outputs": [
    {
     "data": {
      "text/plain": [
       "17"
      ]
     },
     "execution_count": 1,
     "metadata": {},
     "output_type": "execute_result"
    }
   ],
   "source": [
    "# Basic expression to multiply and add integer numbers\n",
    "(3*4)+5"
   ]
  },
  {
   "cell_type": "code",
   "execution_count": 2,
   "id": "d130cbe0-5881-459e-a891-8ecccb554e5f",
   "metadata": {},
   "outputs": [
    {
     "name": "stdout",
     "output_type": "stream",
     "text": [
      "3.3333333333333335\n"
     ]
    }
   ],
   "source": [
    "# Converting 200 minutes to hours by dividing by 60\n",
    "minutes=200\n",
    "hours=minutes/60\n",
    "print(hours)"
   ]
  }
 ],
 "metadata": {
  "kernelspec": {
   "display_name": "Python 3 (ipykernel)",
   "language": "python",
   "name": "python3"
  },
  "language_info": {
   "codemirror_mode": {
    "name": "ipython",
    "version": 3
   },
   "file_extension": ".py",
   "mimetype": "text/x-python",
   "name": "python",
   "nbconvert_exporter": "python",
   "pygments_lexer": "ipython3",
   "version": "3.10.12"
  }
 },
 "nbformat": 4,
 "nbformat_minor": 5
}
